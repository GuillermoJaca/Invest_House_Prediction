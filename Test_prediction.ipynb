{
 "cells": [
  {
   "cell_type": "code",
   "execution_count": 1,
   "metadata": {
    "id": "w9lzwQa2Bor1"
   },
   "outputs": [],
   "source": [
    "import pandas as pd\n",
    "import numpy as np\n",
    "import matplotlib.pyplot as plt"
   ]
  },
  {
   "cell_type": "markdown",
   "metadata": {
    "id": "TeUH9-09Fpc3"
   },
   "source": [
    "#### Load test cleaned data"
   ]
  },
  {
   "cell_type": "code",
   "execution_count": 2,
   "metadata": {
    "id": "QXyDZonHBy4X"
   },
   "outputs": [],
   "source": [
    "data_test = pd.read_parquet('data/data_test.parquet.gzip')"
   ]
  },
  {
   "cell_type": "code",
   "execution_count": 3,
   "metadata": {
    "id": "3A-c9-VD9-bo"
   },
   "outputs": [],
   "source": [
    "target_1 = 'baseRentSquareMeter' \n",
    "target_2 = 'price_costs_square_meter'"
   ]
  },
  {
   "cell_type": "code",
   "execution_count": 4,
   "metadata": {
    "id": "v2NW9W_z9gTl"
   },
   "outputs": [],
   "source": [
    "all_but_targets = list(set(data_test.columns) - set([target_1,target_2]))\n",
    "\n",
    "data_test[all_but_targets] = data_test[all_but_targets].fillna(99999)"
   ]
  },
  {
   "cell_type": "code",
   "execution_count": 5,
   "metadata": {
    "id": "VeMqn0_k9gLr"
   },
   "outputs": [],
   "source": [
    "import json\n",
    "\n",
    "with open('data/back_mapping.json', 'r') as fp:\n",
    "    back_mapping = json.load(fp)"
   ]
  },
  {
   "cell_type": "code",
   "execution_count": null,
   "metadata": {
    "id": "3pgX5hYGADW5"
   },
   "outputs": [],
   "source": [
    "data_test = data_test.replace(back_mapping)"
   ]
  },
  {
   "cell_type": "markdown",
   "metadata": {
    "id": "4ak7aIIyFseh"
   },
   "source": [
    "### Load models"
   ]
  },
  {
   "cell_type": "code",
   "execution_count": null,
   "metadata": {
    "id": "PYxl8_FnmZr-"
   },
   "outputs": [],
   "source": [
    "from modelling_utils import load_model,load_model_config"
   ]
  },
  {
   "cell_type": "code",
   "execution_count": null,
   "metadata": {
    "id": "PEvsjr6RBy2q"
   },
   "outputs": [],
   "source": [
    "model_1 = load_model(target_1)\n",
    "model_2 = load_model(target_2)\n",
    "\n",
    "model_config_1 = load_model_config(target_1)\n",
    "model_config_2 = load_model_config(target_2)"
   ]
  },
  {
   "cell_type": "markdown",
   "metadata": {
    "id": "pP2Vwh6IIOkp"
   },
   "source": [
    "### Predict"
   ]
  },
  {
   "cell_type": "code",
   "execution_count": null,
   "metadata": {
    "id": "WIVZuoPOBVsu"
   },
   "outputs": [],
   "source": [
    "features_1 = model_config_1['feature_cols']\n",
    "features_2 = model_config_2['feature_cols']"
   ]
  },
  {
   "cell_type": "code",
   "execution_count": null,
   "metadata": {
    "id": "FJs9yMgRCI9E"
   },
   "outputs": [],
   "source": [
    "#Data checker and converter (This should be done more extensively and with tests to ensure no production crash)\n",
    "data_test['streetPlain'] = pd.to_numeric(data_test['streetPlain'], errors='coerce').fillna(99999)"
   ]
  },
  {
   "cell_type": "code",
   "execution_count": null,
   "metadata": {},
   "outputs": [],
   "source": [
    "model_1"
   ]
  },
  {
   "cell_type": "code",
   "execution_count": null,
   "metadata": {
    "id": "DPENiRjLIQ0v"
   },
   "outputs": [],
   "source": [
    "data_test['prediction_model_1'] = model_1.predict(data_test[features_1])"
   ]
  },
  {
   "cell_type": "code",
   "execution_count": null,
   "metadata": {
    "id": "r9NIDL-BGSbm"
   },
   "outputs": [],
   "source": [
    "data_test['prediction_model_2'] = model_2.predict(data_test[features_2])"
   ]
  },
  {
   "cell_type": "code",
   "execution_count": null,
   "metadata": {
    "id": "UmcP7EY_J0HN"
   },
   "outputs": [],
   "source": [
    "data_test['prediction_total'] = data_test['prediction_model_1'] + data_test['prediction_model_2']"
   ]
  },
  {
   "cell_type": "markdown",
   "metadata": {
    "id": "OmRP_kAQIRZO"
   },
   "source": [
    "### Evaluate Error where we have data of the totalRent."
   ]
  },
  {
   "cell_type": "code",
   "execution_count": null,
   "metadata": {
    "id": "UiTaJGBZE8iz"
   },
   "outputs": [],
   "source": [
    "data_test['error_1'] = data_test[target_1] - data_test['prediction_model_1']\n",
    "data_test['error_2'] = data_test[target_2] - data_test['prediction_model_2']\n",
    "data_test['total_error'] = data_test['prediction_total'] - (data_test[target_1] + data_test[target_2])"
   ]
  },
  {
   "cell_type": "code",
   "execution_count": null,
   "metadata": {
    "colab": {
     "base_uri": "https://localhost:8080/"
    },
    "id": "-GZI_7UTFkA2",
    "outputId": "66d68dbd-ffbe-4d99-d56d-184fe3fd9ca2"
   },
   "outputs": [],
   "source": [
    "data_test['error_1'].abs().mean()"
   ]
  },
  {
   "cell_type": "code",
   "execution_count": null,
   "metadata": {
    "colab": {
     "base_uri": "https://localhost:8080/"
    },
    "id": "lzYXUoSKFqez",
    "outputId": "f29fc7e9-7217-4328-e6a4-c566a61a4956"
   },
   "outputs": [],
   "source": [
    "data_test['error_2'].abs().mean()"
   ]
  },
  {
   "cell_type": "code",
   "execution_count": null,
   "metadata": {
    "colab": {
     "base_uri": "https://localhost:8080/"
    },
    "id": "As2ZWES6IjoT",
    "outputId": "ed26004a-db1f-4062-85d2-b9cc761cdf14"
   },
   "outputs": [],
   "source": [
    "data_test['total_error'].abs().mean()"
   ]
  },
  {
   "cell_type": "markdown",
   "metadata": {
    "id": "3ovAxg64JDGI"
   },
   "source": [
    "Error a bit higher than in validation. Maybe I should try other validation techniques. For examples different CV squema."
   ]
  },
  {
   "cell_type": "code",
   "execution_count": null,
   "metadata": {
    "id": "CCIuSxhAEvm4"
   },
   "outputs": [],
   "source": [
    "from modelling_utils import visualize_errors_features, visualize_samples_error "
   ]
  },
  {
   "cell_type": "code",
   "execution_count": null,
   "metadata": {
    "colab": {
     "base_uri": "https://localhost:8080/",
     "height": 1000
    },
    "id": "Q2xAe2fRBywV",
    "outputId": "7ed56531-8712-40d9-c6ab-b20122c84d26"
   },
   "outputs": [],
   "source": [
    "features_plot = list(set(features_1).union(set(features_2)))\n",
    "samples_error = visualize_samples_error(data = data_test,\n",
    "                  error_column = 'total_error',\n",
    "                  absolute_error_threshold = 5)\n",
    "\n",
    "visualize_errors_features(data = data_test,\n",
    "                    error_column = 'total_error',\n",
    "                    features_visualize = features_plot)"
   ]
  },
  {
   "cell_type": "markdown",
   "metadata": {
    "id": "A_uYfWnzIWKI"
   },
   "source": [
    "### Evaluate Error of predicted error"
   ]
  },
  {
   "cell_type": "code",
   "execution_count": null,
   "metadata": {
    "id": "QN8EHVLZBys2"
   },
   "outputs": [],
   "source": [
    "target_error = 'target_error'\n",
    "\n",
    "data_test[target_error] = data_test['total_error'].abs()\n",
    " \n",
    "model_error = load_model(target_error)\n",
    "\n",
    "model_config_error = load_model_config(target_error)"
   ]
  },
  {
   "cell_type": "code",
   "execution_count": null,
   "metadata": {
    "id": "EpjTwjLFIU1H"
   },
   "outputs": [],
   "source": [
    "features_error = model_config_error['feature_cols']"
   ]
  },
  {
   "cell_type": "code",
   "execution_count": null,
   "metadata": {
    "id": "bf18yPn3IUy4"
   },
   "outputs": [],
   "source": [
    "data_test['prediction_model_error'] = model_error.predict(data_test[features_error])"
   ]
  },
  {
   "cell_type": "code",
   "execution_count": null,
   "metadata": {
    "id": "2TH1G2qpyZJI"
   },
   "outputs": [],
   "source": [
    "data_test['error_of_error'] = data_test[target_error] - data_test['prediction_model_error']"
   ]
  },
  {
   "cell_type": "code",
   "execution_count": null,
   "metadata": {
    "colab": {
     "base_uri": "https://localhost:8080/"
    },
    "id": "rnxO9y4ZyVTd",
    "outputId": "976bff81-0df1-48f6-f084-7f18a64c189b"
   },
   "outputs": [],
   "source": [
    "data_test['error_of_error'].abs().mean()"
   ]
  },
  {
   "cell_type": "code",
   "execution_count": null,
   "metadata": {
    "colab": {
     "base_uri": "https://localhost:8080/",
     "height": 1000
    },
    "id": "lP322Fv9yoOy",
    "outputId": "857a467f-3e9c-4343-8978-4a8debec49a1"
   },
   "outputs": [],
   "source": [
    "features_plot = features_error\n",
    "samples_error = visualize_samples_error(data = data_test,\n",
    "                  error_column = 'error_of_error',\n",
    "                  absolute_error_threshold = 5)\n",
    "\n",
    "visualize_errors_features(data = data_test,\n",
    "                    error_column = 'error_of_error',\n",
    "                    features_visualize = features_plot)"
   ]
  }
 ],
 "metadata": {
  "colab": {
   "collapsed_sections": [],
   "name": "Test_prediction.ipynb",
   "provenance": []
  },
  "kernelspec": {
   "display_name": "Python 3 (ipykernel)",
   "language": "python",
   "name": "python3"
  },
  "language_info": {
   "codemirror_mode": {
    "name": "ipython",
    "version": 3
   },
   "file_extension": ".py",
   "mimetype": "text/x-python",
   "name": "python",
   "nbconvert_exporter": "python",
   "pygments_lexer": "ipython3",
   "version": "3.8.12"
  }
 },
 "nbformat": 4,
 "nbformat_minor": 1
}
