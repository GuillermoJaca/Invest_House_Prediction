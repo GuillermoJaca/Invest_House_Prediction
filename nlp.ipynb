{
 "cells": [
  {
   "cell_type": "markdown",
   "metadata": {
    "id": "5dLgljJkFLu8"
   },
   "source": [
    "# Price Prediction with NLP"
   ]
  },
  {
   "cell_type": "markdown",
   "metadata": {
    "id": "XdHLlfRMFQFP"
   },
   "source": [
    "The main challenge is to extract features that can be useful to predict the price of each haus.\n",
    "\n",
    "One can think in various ways to do that:\n",
    "\n",
    "1. Targeting information that we want to know and that it was not included in the structured data ( like if it has gute Verbindungen or gut Blik) and apply methods of Text Mining like NER, NEN or similar. The advantages of this methods are that we have full control over the features that we are getting and can understand the features. The drawbacks though, are that it is necessary to label the data, and, althoug we could use active learning to use as less data as possible, we would still need labelled data.\n",
    "\n",
    "2. Having the price as a target, and training a model combining the features at the input of the model, or in the last layers after a transformer model has extrated features from the text. The clear advantage here, is that we can do this task automatically, without labelled data, cause we already have the price. The drawbacks though, are two: First, the text changes quite a lot from example to example, so, models will have hard times trying to identify features that properly predict the price. The second drawback is that we only can evaluate how good the features are by looking at the improvement of CV results (There are methods for model explanability in NLP but they recognize the words or group of words that are more important for the prediction)."
   ]
  },
  {
   "cell_type": "markdown",
   "metadata": {
    "id": "UkEf_ACQHr3Q"
   },
   "source": [
    "In this notebook I perform an adaptation of the Bert transformer model for regression (it is only avaliable for classification in huggingface). I incorpore fully conected layers to give a the end a regression prediction and I optimize the mse. What I wanted to test here is, if it was even possible that the model learn this kind of data.\n",
    "\n",
    "As future research, I propose to incorporate the features created by the model (taking the last layer of the model for each prediction) to the other model. Another option is to give the structured features at the exit of the transformer model, and optimize the features with the extracted features from the text in an End2End fashion. My fear here is that, the neural network might give too much attention to the structured features, so regularization techniques might be used to avoid this behaviour, and extract features from the text that are independent to the structured ones."
   ]
  },
  {
   "cell_type": "code",
   "execution_count": 1,
   "metadata": {
    "colab": {
     "base_uri": "https://localhost:8080/"
    },
    "id": "a3udPVI33kKO",
    "outputId": "65dcd716-c138-4ca4-d1cf-78ce5f591e02"
   },
   "outputs": [
    {
     "name": "stdout",
     "output_type": "stream",
     "text": [
      "Requirement already satisfied: transformers in /home/user/anaconda3/envs/docker_guillermo/lib/python3.8/site-packages (4.16.2)\n",
      "Requirement already satisfied: pyyaml>=5.1 in /home/user/anaconda3/envs/docker_guillermo/lib/python3.8/site-packages (from transformers) (6.0)\n",
      "Requirement already satisfied: huggingface-hub<1.0,>=0.1.0 in /home/user/anaconda3/envs/docker_guillermo/lib/python3.8/site-packages (from transformers) (0.4.0)\n",
      "Requirement already satisfied: regex!=2019.12.17 in /home/user/anaconda3/envs/docker_guillermo/lib/python3.8/site-packages (from transformers) (2022.1.18)\n",
      "Requirement already satisfied: tqdm>=4.27 in /home/user/anaconda3/envs/docker_guillermo/lib/python3.8/site-packages (from transformers) (4.62.3)\n",
      "Requirement already satisfied: requests in /home/user/anaconda3/envs/docker_guillermo/lib/python3.8/site-packages (from transformers) (2.27.1)\n",
      "Requirement already satisfied: packaging>=20.0 in /home/user/anaconda3/envs/docker_guillermo/lib/python3.8/site-packages (from transformers) (21.3)\n",
      "Requirement already satisfied: sacremoses in /home/user/anaconda3/envs/docker_guillermo/lib/python3.8/site-packages (from transformers) (0.0.47)\n",
      "Requirement already satisfied: tokenizers!=0.11.3,>=0.10.1 in /home/user/anaconda3/envs/docker_guillermo/lib/python3.8/site-packages (from transformers) (0.11.4)\n",
      "Requirement already satisfied: numpy>=1.17 in /home/user/anaconda3/envs/docker_guillermo/lib/python3.8/site-packages (from transformers) (1.22.1)\n",
      "Requirement already satisfied: filelock in /home/user/anaconda3/envs/docker_guillermo/lib/python3.8/site-packages (from transformers) (3.4.2)\n",
      "Requirement already satisfied: typing-extensions>=3.7.4.3 in /home/user/anaconda3/envs/docker_guillermo/lib/python3.8/site-packages (from huggingface-hub<1.0,>=0.1.0->transformers) (4.0.1)\n",
      "Requirement already satisfied: pyparsing!=3.0.5,>=2.0.2 in /home/user/anaconda3/envs/docker_guillermo/lib/python3.8/site-packages (from packaging>=20.0->transformers) (3.0.7)\n",
      "Requirement already satisfied: idna<4,>=2.5 in /home/user/anaconda3/envs/docker_guillermo/lib/python3.8/site-packages (from requests->transformers) (3.3)\n",
      "Requirement already satisfied: charset-normalizer~=2.0.0 in /home/user/anaconda3/envs/docker_guillermo/lib/python3.8/site-packages (from requests->transformers) (2.0.11)\n",
      "Requirement already satisfied: certifi>=2017.4.17 in /home/user/anaconda3/envs/docker_guillermo/lib/python3.8/site-packages (from requests->transformers) (2021.10.8)\n",
      "Requirement already satisfied: urllib3<1.27,>=1.21.1 in /home/user/anaconda3/envs/docker_guillermo/lib/python3.8/site-packages (from requests->transformers) (1.26.8)\n",
      "Requirement already satisfied: six in /home/user/anaconda3/envs/docker_guillermo/lib/python3.8/site-packages (from sacremoses->transformers) (1.16.0)\n",
      "Requirement already satisfied: click in /home/user/anaconda3/envs/docker_guillermo/lib/python3.8/site-packages (from sacremoses->transformers) (8.0.3)\n",
      "Requirement already satisfied: joblib in /home/user/anaconda3/envs/docker_guillermo/lib/python3.8/site-packages (from sacremoses->transformers) (1.1.0)\n"
     ]
    }
   ],
   "source": [
    "!pip install transformers\n",
    "!pip install torch"
   ]
  },
  {
   "cell_type": "code",
   "execution_count": 2,
   "metadata": {
    "id": "Y464-F6L3jMs"
   },
   "outputs": [],
   "source": [
    "import torch\n",
    "import torch.nn as nn\n",
    "import torch.optim as optim\n",
    "import torch.nn.functional as F\n",
    "from torch.utils.data import Dataset, DataLoader\n",
    "\n",
    "from transformers import BertPreTrainedModel, BertModel\n",
    "from transformers import AutoConfig, AutoTokenizer\n",
    "\n",
    "from sklearn import metrics\n",
    "from sklearn.model_selection import train_test_split\n",
    "from tqdm import tqdm, trange\n",
    "import matplotlib.pyplot as plt\n",
    "import seaborn as sns"
   ]
  },
  {
   "cell_type": "markdown",
   "metadata": {
    "id": "kS5OQ53YxGuB"
   },
   "source": [
    "# Data"
   ]
  },
  {
   "cell_type": "code",
   "execution_count": 3,
   "metadata": {
    "colab": {
     "base_uri": "https://localhost:8080/",
     "height": 672
    },
    "id": "XDkc8asmxBYR",
    "outputId": "9d12ac83-0d14-4574-96a4-3c9a9748bc4b"
   },
   "outputs": [
    {
     "data": {
      "text/html": [
       "<div>\n",
       "<style scoped>\n",
       "    .dataframe tbody tr th:only-of-type {\n",
       "        vertical-align: middle;\n",
       "    }\n",
       "\n",
       "    .dataframe tbody tr th {\n",
       "        vertical-align: top;\n",
       "    }\n",
       "\n",
       "    .dataframe thead th {\n",
       "        text-align: right;\n",
       "    }\n",
       "</style>\n",
       "<table border=\"1\" class=\"dataframe\">\n",
       "  <thead>\n",
       "    <tr style=\"text-align: right;\">\n",
       "      <th></th>\n",
       "      <th>regio1</th>\n",
       "      <th>serviceCharge</th>\n",
       "      <th>heatingType</th>\n",
       "      <th>telekomTvOffer</th>\n",
       "      <th>telekomHybridUploadSpeed</th>\n",
       "      <th>newlyConst</th>\n",
       "      <th>balcony</th>\n",
       "      <th>picturecount</th>\n",
       "      <th>pricetrend</th>\n",
       "      <th>telekomUploadSpeed</th>\n",
       "      <th>...</th>\n",
       "      <th>geo_krs_baseRent_size</th>\n",
       "      <th>geo_plz_baseRent_size</th>\n",
       "      <th>streetPlain_baseRent_size</th>\n",
       "      <th>garden_baseRent_size</th>\n",
       "      <th>heatingType_baseRent_size</th>\n",
       "      <th>telekomTvOffer_baseRent_size</th>\n",
       "      <th>condition_baseRent_size</th>\n",
       "      <th>interiorQual_baseRent_size</th>\n",
       "      <th>typeOfFlat_baseRent_size</th>\n",
       "      <th>id</th>\n",
       "    </tr>\n",
       "  </thead>\n",
       "  <tbody>\n",
       "    <tr>\n",
       "      <th>237905</th>\n",
       "      <td>Nordrhein_Westfalen</td>\n",
       "      <td>94.0</td>\n",
       "      <td>central_heating</td>\n",
       "      <td>ONE_YEAR_FREE</td>\n",
       "      <td>NaN</td>\n",
       "      <td>0</td>\n",
       "      <td>0</td>\n",
       "      <td>6</td>\n",
       "      <td>2.74</td>\n",
       "      <td>40.0</td>\n",
       "      <td>...</td>\n",
       "      <td>2327</td>\n",
       "      <td>158</td>\n",
       "      <td>12.0</td>\n",
       "      <td>42098</td>\n",
       "      <td>102952.0</td>\n",
       "      <td>181826.0</td>\n",
       "      <td>NaN</td>\n",
       "      <td>NaN</td>\n",
       "      <td>25127.0</td>\n",
       "      <td>237905</td>\n",
       "    </tr>\n",
       "    <tr>\n",
       "      <th>143718</th>\n",
       "      <td>Hamburg</td>\n",
       "      <td>630.0</td>\n",
       "      <td>central_heating</td>\n",
       "      <td>ONE_YEAR_FREE</td>\n",
       "      <td>NaN</td>\n",
       "      <td>0</td>\n",
       "      <td>0</td>\n",
       "      <td>6</td>\n",
       "      <td>4.48</td>\n",
       "      <td>40.0</td>\n",
       "      <td>...</td>\n",
       "      <td>2993</td>\n",
       "      <td>42</td>\n",
       "      <td>NaN</td>\n",
       "      <td>172469</td>\n",
       "      <td>102952.0</td>\n",
       "      <td>181826.0</td>\n",
       "      <td>NaN</td>\n",
       "      <td>NaN</td>\n",
       "      <td>104805.0</td>\n",
       "      <td>143718</td>\n",
       "    </tr>\n",
       "    <tr>\n",
       "      <th>53329</th>\n",
       "      <td>Schleswig_Holstein</td>\n",
       "      <td>150.0</td>\n",
       "      <td>gas_heating</td>\n",
       "      <td>None</td>\n",
       "      <td>NaN</td>\n",
       "      <td>0</td>\n",
       "      <td>1</td>\n",
       "      <td>2</td>\n",
       "      <td>2.98</td>\n",
       "      <td>NaN</td>\n",
       "      <td>...</td>\n",
       "      <td>711</td>\n",
       "      <td>61</td>\n",
       "      <td>NaN</td>\n",
       "      <td>172469</td>\n",
       "      <td>15908.0</td>\n",
       "      <td>NaN</td>\n",
       "      <td>53184.0</td>\n",
       "      <td>NaN</td>\n",
       "      <td>25127.0</td>\n",
       "      <td>53329</td>\n",
       "    </tr>\n",
       "    <tr>\n",
       "      <th>198945</th>\n",
       "      <td>Nordrhein_Westfalen</td>\n",
       "      <td>100.0</td>\n",
       "      <td>self_contained_central_heating</td>\n",
       "      <td>None</td>\n",
       "      <td>NaN</td>\n",
       "      <td>0</td>\n",
       "      <td>0</td>\n",
       "      <td>7</td>\n",
       "      <td>3.61</td>\n",
       "      <td>NaN</td>\n",
       "      <td>...</td>\n",
       "      <td>1516</td>\n",
       "      <td>237</td>\n",
       "      <td>8.0</td>\n",
       "      <td>172469</td>\n",
       "      <td>15301.0</td>\n",
       "      <td>NaN</td>\n",
       "      <td>20978.0</td>\n",
       "      <td>65361.0</td>\n",
       "      <td>25127.0</td>\n",
       "      <td>198945</td>\n",
       "    </tr>\n",
       "    <tr>\n",
       "      <th>193723</th>\n",
       "      <td>Brandenburg</td>\n",
       "      <td>93.0</td>\n",
       "      <td>central_heating</td>\n",
       "      <td>ONE_YEAR_FREE</td>\n",
       "      <td>NaN</td>\n",
       "      <td>0</td>\n",
       "      <td>1</td>\n",
       "      <td>6</td>\n",
       "      <td>3.90</td>\n",
       "      <td>40.0</td>\n",
       "      <td>...</td>\n",
       "      <td>408</td>\n",
       "      <td>146</td>\n",
       "      <td>16.0</td>\n",
       "      <td>42098</td>\n",
       "      <td>102952.0</td>\n",
       "      <td>181826.0</td>\n",
       "      <td>20978.0</td>\n",
       "      <td>65361.0</td>\n",
       "      <td>25127.0</td>\n",
       "      <td>193723</td>\n",
       "    </tr>\n",
       "  </tbody>\n",
       "</table>\n",
       "<p>5 rows × 79 columns</p>\n",
       "</div>"
      ],
      "text/plain": [
       "                     regio1  serviceCharge                     heatingType  \\\n",
       "237905  Nordrhein_Westfalen           94.0                 central_heating   \n",
       "143718              Hamburg          630.0                 central_heating   \n",
       "53329    Schleswig_Holstein          150.0                     gas_heating   \n",
       "198945  Nordrhein_Westfalen          100.0  self_contained_central_heating   \n",
       "193723          Brandenburg           93.0                 central_heating   \n",
       "\n",
       "       telekomTvOffer  telekomHybridUploadSpeed  newlyConst  balcony  \\\n",
       "237905  ONE_YEAR_FREE                       NaN           0        0   \n",
       "143718  ONE_YEAR_FREE                       NaN           0        0   \n",
       "53329            None                       NaN           0        1   \n",
       "198945           None                       NaN           0        0   \n",
       "193723  ONE_YEAR_FREE                       NaN           0        1   \n",
       "\n",
       "        picturecount  pricetrend  telekomUploadSpeed  ...  \\\n",
       "237905             6        2.74                40.0  ...   \n",
       "143718             6        4.48                40.0  ...   \n",
       "53329              2        2.98                 NaN  ...   \n",
       "198945             7        3.61                 NaN  ...   \n",
       "193723             6        3.90                40.0  ...   \n",
       "\n",
       "        geo_krs_baseRent_size  geo_plz_baseRent_size  \\\n",
       "237905                   2327                    158   \n",
       "143718                   2993                     42   \n",
       "53329                     711                     61   \n",
       "198945                   1516                    237   \n",
       "193723                    408                    146   \n",
       "\n",
       "        streetPlain_baseRent_size  garden_baseRent_size  \\\n",
       "237905                       12.0                 42098   \n",
       "143718                        NaN                172469   \n",
       "53329                         NaN                172469   \n",
       "198945                        8.0                172469   \n",
       "193723                       16.0                 42098   \n",
       "\n",
       "       heatingType_baseRent_size  telekomTvOffer_baseRent_size  \\\n",
       "237905                  102952.0                      181826.0   \n",
       "143718                  102952.0                      181826.0   \n",
       "53329                    15908.0                           NaN   \n",
       "198945                   15301.0                           NaN   \n",
       "193723                  102952.0                      181826.0   \n",
       "\n",
       "       condition_baseRent_size  interiorQual_baseRent_size  \\\n",
       "237905                     NaN                         NaN   \n",
       "143718                     NaN                         NaN   \n",
       "53329                  53184.0                         NaN   \n",
       "198945                 20978.0                     65361.0   \n",
       "193723                 20978.0                     65361.0   \n",
       "\n",
       "        typeOfFlat_baseRent_size      id  \n",
       "237905                   25127.0  237905  \n",
       "143718                  104805.0  143718  \n",
       "53329                    25127.0   53329  \n",
       "198945                   25127.0  198945  \n",
       "193723                   25127.0  193723  \n",
       "\n",
       "[5 rows x 79 columns]"
      ]
     },
     "execution_count": 3,
     "metadata": {},
     "output_type": "execute_result"
    }
   ],
   "source": [
    "import pandas as pd\n",
    "df = pd.read_parquet('data/data_train.parquet.gzip')\n",
    "df = df[:10000]\n",
    "df['id'] = df.index\n",
    "df.head()"
   ]
  },
  {
   "cell_type": "markdown",
   "metadata": {
    "id": "bMh6M2TgFIaO"
   },
   "source": [
    "Represent the distribution of targets again"
   ]
  },
  {
   "cell_type": "code",
   "execution_count": 4,
   "metadata": {
    "colab": {
     "base_uri": "https://localhost:8080/",
     "height": 283
    },
    "id": "rjX-2nIGxBZ4",
    "outputId": "6e322b5e-6cd5-4864-8d96-347215fea087"
   },
   "outputs": [
    {
     "data": {
      "text/plain": [
       "<AxesSubplot:>"
      ]
     },
     "execution_count": 4,
     "metadata": {},
     "output_type": "execute_result"
    },
    {
     "data": {
      "image/png": "[encoded data removed]",
      "text/plain": [
       "<Figure size 432x288 with 1 Axes>"
      ]
     },
     "metadata": {
      "needs_background": "light"
     },
     "output_type": "display_data"
    }
   ],
   "source": [
    "df['description_all'] = df['description'].astype(str) + df['facilities'].astype(str)\n",
    "# Target 1: baseRentSquareMeter // Target 2: price_costs_square_meter\n",
    "df['target'] = df['baseRentSquareMeter']\n",
    "df['excerpt'] = df['description_all']\n",
    "df=df[['id', 'excerpt', 'target']]\n",
    "df = df.dropna()\n",
    "len(df)\n",
    "df.target.hist()"
   ]
  },
  {
   "cell_type": "markdown",
   "metadata": {
    "id": "OL-I8VJqJ4E6"
   },
   "source": [
    "### Clean data with Regex"
   ]
  },
  {
   "cell_type": "code",
   "execution_count": 5,
   "metadata": {
    "id": "qoetxbr1JcOb"
   },
   "outputs": [],
   "source": [
    "from bert_utils import clean_text\n",
    "\n",
    "df['cleaned_description'] = df.excerpt.apply(clean_text)"
   ]
  },
  {
   "cell_type": "code",
   "execution_count": 6,
   "metadata": {
    "colab": {
     "base_uri": "https://localhost:8080/",
     "height": 422
    },
    "id": "Wud6Xh2_N-pF",
    "outputId": "6ff47e93-d2e0-40c8-bc6a-388b3e860e35"
   },
   "outputs": [
    {
     "data": {
      "text/html": [
       "<div>\n",
       "<style scoped>\n",
       "    .dataframe tbody tr th:only-of-type {\n",
       "        vertical-align: middle;\n",
       "    }\n",
       "\n",
       "    .dataframe tbody tr th {\n",
       "        vertical-align: top;\n",
       "    }\n",
       "\n",
       "    .dataframe thead th {\n",
       "        text-align: right;\n",
       "    }\n",
       "</style>\n",
       "<table border=\"1\" class=\"dataframe\">\n",
       "  <thead>\n",
       "    <tr style=\"text-align: right;\">\n",
       "      <th></th>\n",
       "      <th>id</th>\n",
       "      <th>excerpt</th>\n",
       "      <th>target</th>\n",
       "      <th>cleaned_description</th>\n",
       "    </tr>\n",
       "  </thead>\n",
       "  <tbody>\n",
       "    <tr>\n",
       "      <th>0</th>\n",
       "      <td>237905</td>\n",
       "      <td>NoneKabelanschluss; Gartennutzung; Isolierverg...</td>\n",
       "      <td>6.600040</td>\n",
       "      <td>nonekabelanschluss; gartennutzung; isolierverg...</td>\n",
       "    </tr>\n",
       "    <tr>\n",
       "      <th>1</th>\n",
       "      <td>143718</td>\n",
       "      <td>Die Wohnung ist mit einer Küche mit hellen Ein...</td>\n",
       "      <td>11.888112</td>\n",
       "      <td>die wohnung ist mit einer küche mit hellen ein...</td>\n",
       "    </tr>\n",
       "    <tr>\n",
       "      <th>2</th>\n",
       "      <td>53329</td>\n",
       "      <td>Die Wohnung befindet sich im Erdgeschoss eines...</td>\n",
       "      <td>9.036145</td>\n",
       "      <td>die wohnung befindet sich im erdgeschoss eines...</td>\n",
       "    </tr>\n",
       "    <tr>\n",
       "      <th>3</th>\n",
       "      <td>198945</td>\n",
       "      <td>Die komplett sanierte 2 Zi. Wohnung liegt im E...</td>\n",
       "      <td>7.857143</td>\n",
       "      <td>die komplett sanierte 2 zi. wohnung liegt im e...</td>\n",
       "    </tr>\n",
       "    <tr>\n",
       "      <th>4</th>\n",
       "      <td>193723</td>\n",
       "      <td>Frisch renovierte 1-Zimmer-Wohnung am Tschirch...</td>\n",
       "      <td>8.010753</td>\n",
       "      <td>frisch renovierte 1-zimmer-wohnung am tschirch...</td>\n",
       "    </tr>\n",
       "    <tr>\n",
       "      <th>...</th>\n",
       "      <td>...</td>\n",
       "      <td>...</td>\n",
       "      <td>...</td>\n",
       "      <td>...</td>\n",
       "    </tr>\n",
       "    <tr>\n",
       "      <th>95</th>\n",
       "      <td>142035</td>\n",
       "      <td>Es ist ein traumhaft schöner Speicher mit alte...</td>\n",
       "      <td>7.087379</td>\n",
       "      <td>es ist ein traumhaft schöner speicher mit alte...</td>\n",
       "    </tr>\n",
       "    <tr>\n",
       "      <th>96</th>\n",
       "      <td>102929</td>\n",
       "      <td>Penthouse Wohnung über den Dächern von Mainz\\n...</td>\n",
       "      <td>9.278351</td>\n",
       "      <td>penthouse wohnung über den dächern von mainz\\n...</td>\n",
       "    </tr>\n",
       "    <tr>\n",
       "      <th>97</th>\n",
       "      <td>190098</td>\n",
       "      <td>Wie bieten Ihnen hier eine hübsche 1-Raumwohnu...</td>\n",
       "      <td>9.918526</td>\n",
       "      <td>wie bieten ihnen hier eine hübsche 1-raumwohnu...</td>\n",
       "    </tr>\n",
       "    <tr>\n",
       "      <th>98</th>\n",
       "      <td>158990</td>\n",
       "      <td>+++++++\\rDieses Objekt kann nur möbliert angem...</td>\n",
       "      <td>19.149533</td>\n",
       "      <td>+++++++\\rdieses objekt kann nur möbliert angem...</td>\n",
       "    </tr>\n",
       "    <tr>\n",
       "      <th>99</th>\n",
       "      <td>142544</td>\n",
       "      <td>Das Objekt ist ein hochwertig saniertes und de...</td>\n",
       "      <td>5.095238</td>\n",
       "      <td>das objekt ist ein hochwertig saniertes und de...</td>\n",
       "    </tr>\n",
       "  </tbody>\n",
       "</table>\n",
       "<p>100 rows × 4 columns</p>\n",
       "</div>"
      ],
      "text/plain": [
       "        id                                            excerpt     target  \\\n",
       "0   237905  NoneKabelanschluss; Gartennutzung; Isolierverg...   6.600040   \n",
       "1   143718  Die Wohnung ist mit einer Küche mit hellen Ein...  11.888112   \n",
       "2    53329  Die Wohnung befindet sich im Erdgeschoss eines...   9.036145   \n",
       "3   198945  Die komplett sanierte 2 Zi. Wohnung liegt im E...   7.857143   \n",
       "4   193723  Frisch renovierte 1-Zimmer-Wohnung am Tschirch...   8.010753   \n",
       "..     ...                                                ...        ...   \n",
       "95  142035  Es ist ein traumhaft schöner Speicher mit alte...   7.087379   \n",
       "96  102929  Penthouse Wohnung über den Dächern von Mainz\\n...   9.278351   \n",
       "97  190098  Wie bieten Ihnen hier eine hübsche 1-Raumwohnu...   9.918526   \n",
       "98  158990  +++++++\\rDieses Objekt kann nur möbliert angem...  19.149533   \n",
       "99  142544  Das Objekt ist ein hochwertig saniertes und de...   5.095238   \n",
       "\n",
       "                                  cleaned_description  \n",
       "0   nonekabelanschluss; gartennutzung; isolierverg...  \n",
       "1   die wohnung ist mit einer küche mit hellen ein...  \n",
       "2   die wohnung befindet sich im erdgeschoss eines...  \n",
       "3   die komplett sanierte 2 zi. wohnung liegt im e...  \n",
       "4   frisch renovierte 1-zimmer-wohnung am tschirch...  \n",
       "..                                                ...  \n",
       "95  es ist ein traumhaft schöner speicher mit alte...  \n",
       "96  penthouse wohnung über den dächern von mainz\\n...  \n",
       "97  wie bieten ihnen hier eine hübsche 1-raumwohnu...  \n",
       "98  +++++++\\rdieses objekt kann nur möbliert angem...  \n",
       "99  das objekt ist ein hochwertig saniertes und de...  \n",
       "\n",
       "[100 rows x 4 columns]"
      ]
     },
     "execution_count": 6,
     "metadata": {},
     "output_type": "execute_result"
    }
   ],
   "source": [
    "df = df.reset_index(drop=True)\n",
    "df.cleaned_description[3]\n",
    "len(df.cleaned_description[3])\n",
    "description = df.cleaned_description\n",
    "df"
   ]
  },
  {
   "cell_type": "markdown",
   "metadata": {
    "id": "RnnBXNYLKCJS"
   },
   "source": [
    "### Bert maximal input sequence is 512. We need to filder the long descriptions. With shorter input sequence we improve the training."
   ]
  },
  {
   "cell_type": "code",
   "execution_count": 7,
   "metadata": {
    "id": "TyGNWn5HNcxC"
   },
   "outputs": [],
   "source": [
    "import numpy as np\n",
    "def filter_long_descriptions( df, max_len):\n",
    "    indices = []\n",
    "    for i in range(len(df)):\n",
    "        if len(description[i]) <= max_len-2:\n",
    "            indices.append(i)\n",
    "    return indices\n",
    "\n",
    "\n",
    "short_descriptions = filter_long_descriptions(df.cleaned_description.tolist(), 400)\n",
    "df1 = df.loc[short_descriptions]"
   ]
  },
  {
   "cell_type": "code",
   "execution_count": 8,
   "metadata": {
    "colab": {
     "base_uri": "https://localhost:8080/",
     "height": 54
    },
    "id": "awUiDdECRCTx",
    "outputId": "68f29579-b913-4602-9e0a-664b8ad40610"
   },
   "outputs": [
    {
     "data": {
      "text/plain": [
       "'extras:\\n- treppenhausreinigung\\n- hausmeisterservice\\n- winterdienst\\n- gegensprechanlage\\n\\nallgemein:\\n- waschtrockner\\n- vorderhaus\\n\\nräume:\\n- verputzte wände\\n- parkettboden\\n\\nküche:\\n- geschirrspüler\\n- elektroherd, cerankochfeld\\n- kühl-/gefrierkombination\\n\\nbadezimmer:\\n- dusche\\n\\n'"
      ]
     },
     "execution_count": 8,
     "metadata": {},
     "output_type": "execute_result"
    }
   ],
   "source": [
    "df = df1.reset_index(drop=True)\n",
    "df = df.drop(['excerpt'], axis=1)\n",
    "df['excerpt'] = df['cleaned_description']\n",
    "df = df.drop(['cleaned_description'], axis=1)\n",
    "dftrain = df\n",
    "df.excerpt[7]"
   ]
  },
  {
   "cell_type": "markdown",
   "metadata": {
    "id": "4J9rUw_6KZIC"
   },
   "source": [
    "## Let's visualize the word count for all examples"
   ]
  },
  {
   "cell_type": "code",
   "execution_count": 9,
   "metadata": {
    "execution": {
     "iopub.execute_input": "2021-06-20T05:50:25.882147Z",
     "iopub.status.busy": "2021-06-20T05:50:25.881757Z",
     "iopub.status.idle": "2021-06-20T05:50:25.917300Z",
     "shell.execute_reply": "2021-06-20T05:50:25.916558Z",
     "shell.execute_reply.started": "2021-06-20T05:50:25.882111Z"
    },
    "id": "QOaVMACHu3Fh"
   },
   "outputs": [],
   "source": [
    "word_count = dftrain['excerpt'].apply(lambda x: len(x.split()))"
   ]
  },
  {
   "cell_type": "code",
   "execution_count": 10,
   "metadata": {
    "colab": {
     "base_uri": "https://localhost:8080/",
     "height": 498
    },
    "execution": {
     "iopub.execute_input": "2021-06-20T05:50:25.918811Z",
     "iopub.status.busy": "2021-06-20T05:50:25.918432Z",
     "iopub.status.idle": "2021-06-20T05:50:26.185964Z",
     "shell.execute_reply": "2021-06-20T05:50:26.185187Z",
     "shell.execute_reply.started": "2021-06-20T05:50:25.918777Z"
    },
    "id": "tdgJCVhAu3Fh",
    "outputId": "0b7ab06f-66e3-445a-8f46-18b3004c0b40"
   },
   "outputs": [
    {
     "name": "stderr",
     "output_type": "stream",
     "text": [
      "/home/user/anaconda3/envs/docker_guillermo/lib/python3.8/site-packages/seaborn/distributions.py:2619: FutureWarning: `distplot` is a deprecated function and will be removed in a future version. Please adapt your code to use either `displot` (a figure-level function with similar flexibility) or `histplot` (an axes-level function for histograms).\n",
      "  warnings.warn(msg, FutureWarning)\n"
     ]
    },
    {
     "data": {
      "image/png": "[encoded data removed]",
      "text/plain": [
       "<Figure size 720x504 with 1 Axes>"
      ]
     },
     "metadata": {
      "needs_background": "light"
     },
     "output_type": "display_data"
    }
   ],
   "source": [
    "fig = plt.figure(figsize=[10,7])\n",
    "sns.distplot(word_count, color=sns.xkcd_rgb['greenish teal'])\n",
    "plt.show()"
   ]
  },
  {
   "cell_type": "markdown",
   "metadata": {
    "id": "PooWWO_DLiCM"
   },
   "source": [
    "# Divide in Train and Validation"
   ]
  },
  {
   "cell_type": "code",
   "execution_count": 11,
   "metadata": {
    "id": "YSsLWdal-6MU"
   },
   "outputs": [],
   "source": [
    "from sklearn.model_selection import train_test_split\n",
    "test_size = 0.2\n",
    "seed = 42\n",
    "dftrain, dftest = train_test_split(dftrain, test_size=test_size, \n",
    "                             random_state=seed)\n",
    "\n",
    "dftrain = dftrain.reset_index(drop=True)\n",
    "dftest = dftest.reset_index(drop=True)"
   ]
  },
  {
   "cell_type": "code",
   "execution_count": 12,
   "metadata": {
    "colab": {
     "base_uri": "https://localhost:8080/",
     "height": 205
    },
    "id": "csm_qtfdAWhV",
    "outputId": "5e939fae-5461-4c11-cc6d-49b7bc4078d5"
   },
   "outputs": [
    {
     "data": {
      "text/html": [
       "<div>\n",
       "<style scoped>\n",
       "    .dataframe tbody tr th:only-of-type {\n",
       "        vertical-align: middle;\n",
       "    }\n",
       "\n",
       "    .dataframe tbody tr th {\n",
       "        vertical-align: top;\n",
       "    }\n",
       "\n",
       "    .dataframe thead th {\n",
       "        text-align: right;\n",
       "    }\n",
       "</style>\n",
       "<table border=\"1\" class=\"dataframe\">\n",
       "  <thead>\n",
       "    <tr style=\"text-align: right;\">\n",
       "      <th></th>\n",
       "      <th>id</th>\n",
       "      <th>target</th>\n",
       "      <th>excerpt</th>\n",
       "    </tr>\n",
       "  </thead>\n",
       "  <tbody>\n",
       "    <tr>\n",
       "      <th>0</th>\n",
       "      <td>53329</td>\n",
       "      <td>9.036145</td>\n",
       "      <td>die wohnung befindet sich im erdgeschoss eines...</td>\n",
       "    </tr>\n",
       "    <tr>\n",
       "      <th>1</th>\n",
       "      <td>81002</td>\n",
       "      <td>14.554795</td>\n",
       "      <td>extras:\\n- treppenhausreinigung\\n- hausmeister...</td>\n",
       "    </tr>\n",
       "    <tr>\n",
       "      <th>2</th>\n",
       "      <td>218585</td>\n",
       "      <td>5.000000</td>\n",
       "      <td>es handelt sich um ein schönes apartment in ei...</td>\n",
       "    </tr>\n",
       "    <tr>\n",
       "      <th>3</th>\n",
       "      <td>198121</td>\n",
       "      <td>17.956204</td>\n",
       "      <td>das angebotene mietobjekt befindet sich in ein...</td>\n",
       "    </tr>\n",
       "    <tr>\n",
       "      <th>4</th>\n",
       "      <td>163698</td>\n",
       "      <td>11.428571</td>\n",
       "      <td>das objekt verfügt über drei hübsche zimmer. b...</td>\n",
       "    </tr>\n",
       "  </tbody>\n",
       "</table>\n",
       "</div>"
      ],
      "text/plain": [
       "       id     target                                            excerpt\n",
       "0   53329   9.036145  die wohnung befindet sich im erdgeschoss eines...\n",
       "1   81002  14.554795  extras:\\n- treppenhausreinigung\\n- hausmeister...\n",
       "2  218585   5.000000  es handelt sich um ein schönes apartment in ei...\n",
       "3  198121  17.956204  das angebotene mietobjekt befindet sich in ein...\n",
       "4  163698  11.428571  das objekt verfügt über drei hübsche zimmer. b..."
      ]
     },
     "execution_count": 12,
     "metadata": {},
     "output_type": "execute_result"
    }
   ],
   "source": [
    "train_data, validation = train_test_split(dftrain, test_size=0.25, random_state=21)\n",
    "train_data = train_data.reset_index(drop=True)\n",
    "validation = validation.reset_index(drop=True)\n",
    "train_data.head()"
   ]
  },
  {
   "cell_type": "code",
   "execution_count": 13,
   "metadata": {
    "execution": {
     "iopub.execute_input": "2021-06-20T05:50:26.187558Z",
     "iopub.status.busy": "2021-06-20T05:50:26.187202Z",
     "iopub.status.idle": "2021-06-20T05:50:26.192983Z",
     "shell.execute_reply": "2021-06-20T05:50:26.191837Z",
     "shell.execute_reply.started": "2021-06-20T05:50:26.187520Z"
    },
    "id": "R5Dqug64u3Fi"
   },
   "outputs": [],
   "source": [
    "wc_test = dftest['excerpt'].apply(lambda x: len(x.split()))"
   ]
  },
  {
   "cell_type": "code",
   "execution_count": 14,
   "metadata": {
    "colab": {
     "base_uri": "https://localhost:8080/"
    },
    "execution": {
     "iopub.execute_input": "2021-06-20T05:50:26.194939Z",
     "iopub.status.busy": "2021-06-20T05:50:26.194547Z",
     "iopub.status.idle": "2021-06-20T05:50:26.209633Z",
     "shell.execute_reply": "2021-06-20T05:50:26.208742Z",
     "shell.execute_reply.started": "2021-06-20T05:50:26.194902Z"
    },
    "id": "OUp0CLdDu3Fi",
    "outputId": "0b2de28f-f5ad-4319-fcec-b223547c2b4a"
   },
   "outputs": [
    {
     "data": {
      "text/plain": [
       "0    55\n",
       "1    47\n",
       "2    49\n",
       "3    15\n",
       "4     1\n",
       "5    41\n",
       "6    53\n",
       "7    31\n",
       "Name: excerpt, dtype: int64"
      ]
     },
     "execution_count": 14,
     "metadata": {},
     "output_type": "execute_result"
    }
   ],
   "source": [
    "wc_test"
   ]
  },
  {
   "cell_type": "code",
   "execution_count": 15,
   "metadata": {
    "colab": {
     "base_uri": "https://localhost:8080/"
    },
    "execution": {
     "iopub.execute_input": "2021-06-20T05:50:26.211393Z",
     "iopub.status.busy": "2021-06-20T05:50:26.211023Z",
     "iopub.status.idle": "2021-06-20T05:50:26.220105Z",
     "shell.execute_reply": "2021-06-20T05:50:26.219186Z",
     "shell.execute_reply.started": "2021-06-20T05:50:26.211357Z"
    },
    "id": "oBV6M4WAu3Fi",
    "outputId": "37e6d252-e945-4780-ff71-6ba36ddc47ee"
   },
   "outputs": [
    {
     "data": {
      "text/plain": [
       "61"
      ]
     },
     "execution_count": 15,
     "metadata": {},
     "output_type": "execute_result"
    }
   ],
   "source": [
    "word_count.max()"
   ]
  },
  {
   "cell_type": "markdown",
   "metadata": {
    "id": "mPrJt37lu3Fj"
   },
   "source": [
    "## Config"
   ]
  },
  {
   "cell_type": "code",
   "execution_count": 16,
   "metadata": {
    "execution": {
     "iopub.execute_input": "2021-06-20T05:50:26.221794Z",
     "iopub.status.busy": "2021-06-20T05:50:26.221326Z",
     "iopub.status.idle": "2021-06-20T05:50:26.230110Z",
     "shell.execute_reply": "2021-06-20T05:50:26.228992Z",
     "shell.execute_reply.started": "2021-06-20T05:50:26.221759Z"
    },
    "id": "B8iljdzEu3Fj"
   },
   "outputs": [],
   "source": [
    "import os \n",
    "MODEL_OUT_DIR = 'bert_regressor'\n",
    "## Model Configurations\n",
    "MAX_LEN_TRAIN = 205\n",
    "MAX_LEN_VALID = 205\n",
    "MAX_LEN_TEST = 205\n",
    "BATCH_SIZE = 64\n",
    "LR = 1e-3\n",
    "NUM_EPOCHS = 10\n",
    "NUM_THREADS = 1  ## Number of threads for collecting dataset\n",
    "MODEL_NAME = \"dbmdz/bert-base-german-cased\"\n",
    "# MODEL_NAME = 'bert-base-uncased'\n",
    "\n",
    "if not os.path.isdir(MODEL_OUT_DIR):\n",
    "    os.makedirs(MODEL_OUT_DIR)"
   ]
  },
  {
   "cell_type": "markdown",
   "metadata": {
    "id": "bCffmYHyu3Fj"
   },
   "source": [
    "## Scripts"
   ]
  },
  {
   "cell_type": "markdown",
   "metadata": {
    "id": "Eu6dK6kkMKkn"
   },
   "source": [
    "### Data Loader"
   ]
  },
  {
   "cell_type": "code",
   "execution_count": 17,
   "metadata": {
    "execution": {
     "iopub.execute_input": "2021-06-20T05:50:26.232010Z",
     "iopub.status.busy": "2021-06-20T05:50:26.231400Z",
     "iopub.status.idle": "2021-06-20T05:50:26.242301Z",
     "shell.execute_reply": "2021-06-20T05:50:26.241547Z",
     "shell.execute_reply.started": "2021-06-20T05:50:26.231972Z"
    },
    "id": "d26-UHCmu3Fk"
   },
   "outputs": [],
   "source": [
    "class Excerpt_Dataset(Dataset):\n",
    "\n",
    "    def __init__(self, data, maxlen, tokenizer): \n",
    "        #Store the contents of the file in a pandas dataframe\n",
    "        self.df = data.reset_index()\n",
    "        #Initialize the tokenizer for the desired transformer model\n",
    "        self.tokenizer = tokenizer\n",
    "        #Maximum length of the tokens list to keep all the sequences of fixed size\n",
    "        self.maxlen = maxlen\n",
    "\n",
    "    def __len__(self):\n",
    "        return self.df.shape[0]\n",
    "\n",
    "    def __getitem__(self, index):    \n",
    "        #Select the sentence and label at the specified index in the data frame\n",
    "        excerpt = self.df.loc[index, 'excerpt']\n",
    "        try:\n",
    "            target = self.df.loc[index, 'target']\n",
    "        except:\n",
    "            target = 0.0\n",
    "        identifier = self.df.loc[index, 'id']\n",
    "        #Preprocess the text to be suitable for the transformer\n",
    "        tokens = self.tokenizer.tokenize(excerpt) \n",
    "        tokens = ['[CLS]'] + tokens + ['[SEP]'] \n",
    "        if len(tokens) < self.maxlen:\n",
    "            tokens = tokens + ['[PAD]' for _ in range(self.maxlen - len(tokens))] \n",
    "        else:\n",
    "            tokens = tokens[:self.maxlen-1] + ['[SEP]'] \n",
    "        #Obtain the indices of the tokens in the BERT Vocabulary\n",
    "        input_ids = self.tokenizer.convert_tokens_to_ids(tokens) \n",
    "        input_ids = torch.tensor(input_ids) \n",
    "        #Obtain the attention mask i.e a tensor containing 1s for no padded tokens and 0s for padded ones\n",
    "        attention_mask = (input_ids != 0).long()\n",
    "        \n",
    "        target = torch.tensor(target, dtype=torch.float32)\n",
    "        \n",
    "        return input_ids, attention_mask, target"
   ]
  },
  {
   "cell_type": "markdown",
   "metadata": {
    "id": "ac-6_Iy4MNDJ"
   },
   "source": [
    "### Bert Regressor"
   ]
  },
  {
   "cell_type": "code",
   "execution_count": 18,
   "metadata": {
    "execution": {
     "iopub.execute_input": "2021-06-20T05:50:26.244218Z",
     "iopub.status.busy": "2021-06-20T05:50:26.243716Z",
     "iopub.status.idle": "2021-06-20T05:50:26.254223Z",
     "shell.execute_reply": "2021-06-20T05:50:26.253508Z",
     "shell.execute_reply.started": "2021-06-20T05:50:26.244182Z"
    },
    "id": "WEOYO1kfu3Fk"
   },
   "outputs": [],
   "source": [
    "class BertRegresser(BertPreTrainedModel):\n",
    "    def __init__(self, config):\n",
    "        super().__init__(config)\n",
    "        self.bert = BertModel(config)\n",
    "        #The output layer that takes the [CLS] representation and gives an output\n",
    "        self.cls_layer1 = nn.Linear(config.hidden_size,128)\n",
    "        self.relu1 = nn.ReLU()\n",
    "        self.ff1 = nn.Linear(128,128)\n",
    "        self.tanh1 = nn.Tanh()\n",
    "        self.ff2 = nn.Linear(128,1)\n",
    "\n",
    "    def forward(self, input_ids, attention_mask):\n",
    "        #Feed the input to Bert model to obtain contextualized representations\n",
    "        outputs = self.bert(input_ids=input_ids, attention_mask=attention_mask)\n",
    "        #Obtain the representations of [CLS] heads\n",
    "        logits = outputs.last_hidden_state[:,0,:]\n",
    "        output = self.cls_layer1(logits)\n",
    "        output = self.relu1(output)\n",
    "        output = self.ff1(output)\n",
    "        output = self.tanh1(output)\n",
    "        output = self.ff2(output)\n",
    "        return output"
   ]
  },
  {
   "cell_type": "markdown",
   "metadata": {
    "id": "ZwEFC-hEu3Fl"
   },
   "source": [
    "## Train function"
   ]
  },
  {
   "cell_type": "code",
   "execution_count": 19,
   "metadata": {
    "execution": {
     "iopub.execute_input": "2021-06-20T05:50:26.255745Z",
     "iopub.status.busy": "2021-06-20T05:50:26.255392Z",
     "iopub.status.idle": "2021-06-20T05:50:26.267272Z",
     "shell.execute_reply": "2021-06-20T05:50:26.266464Z",
     "shell.execute_reply.started": "2021-06-20T05:50:26.255712Z"
    },
    "id": "xXaeY27Au3Fl"
   },
   "outputs": [],
   "source": [
    "def train(model, criterion, optimizer, train_loader, val_loader, epochs, device):\n",
    "    best_acc = 0\n",
    "    for epoch in trange(epochs, desc=\"Epoch\"):\n",
    "        model.train()\n",
    "        train_loss = 0\n",
    "        for i, (input_ids, attention_mask, target) in enumerate(iterable=train_loader):\n",
    "            optimizer.zero_grad()  \n",
    "            \n",
    "            input_ids, attention_mask, target = input_ids.to(device), attention_mask.to(device), target.to(device)\n",
    "            \n",
    "            output = model(input_ids=input_ids, attention_mask=attention_mask)\n",
    "            \n",
    "            loss = criterion(output, target.type_as(output))\n",
    "            loss.backward()\n",
    "            optimizer.step()\n",
    "            \n",
    "            train_loss += loss.item()\n",
    "        \n",
    "        print(f\"Training loss is {train_loss/len(train_loader)}\")\n",
    "        val_loss = evaluate(model=model, criterion=criterion, dataloader=val_loader, device=device)\n",
    "        print(\"Epoch {} complete! Validation Loss : {}\".format(epoch, val_loss))"
   ]
  },
  {
   "cell_type": "markdown",
   "metadata": {
    "id": "2bTMDWsEu3Fm"
   },
   "source": [
    "## Evaluation function"
   ]
  },
  {
   "cell_type": "code",
   "execution_count": 20,
   "metadata": {
    "execution": {
     "iopub.execute_input": "2021-06-20T05:50:26.270917Z",
     "iopub.status.busy": "2021-06-20T05:50:26.270442Z",
     "iopub.status.idle": "2021-06-20T05:50:26.277920Z",
     "shell.execute_reply": "2021-06-20T05:50:26.276849Z",
     "shell.execute_reply.started": "2021-06-20T05:50:26.270881Z"
    },
    "id": "wwjAVYZxu3Fm"
   },
   "outputs": [],
   "source": [
    "def evaluate(model, criterion, dataloader, device):\n",
    "    model.eval()\n",
    "    mean_acc, mean_loss, count = 0, 0, 0\n",
    "\n",
    "    with torch.no_grad():\n",
    "        for input_ids, attention_mask, target in (dataloader):\n",
    "            \n",
    "            input_ids, attention_mask, target = input_ids.to(device), attention_mask.to(device), target.to(device)\n",
    "            output = model(input_ids, attention_mask)\n",
    "            \n",
    "            mean_loss += criterion(output, target.type_as(output)).item()\n",
    "#             mean_err += get_rmse(output, target)\n",
    "            count += 1\n",
    "            \n",
    "    return mean_loss/count"
   ]
  },
  {
   "cell_type": "code",
   "execution_count": 21,
   "metadata": {
    "execution": {
     "iopub.execute_input": "2021-06-20T05:50:26.280220Z",
     "iopub.status.busy": "2021-06-20T05:50:26.279827Z",
     "iopub.status.idle": "2021-06-20T05:50:26.289679Z",
     "shell.execute_reply": "2021-06-20T05:50:26.288937Z",
     "shell.execute_reply.started": "2021-06-20T05:50:26.280184Z"
    },
    "id": "Yl1Xb5_lu3Fm"
   },
   "outputs": [],
   "source": [
    "def get_rmse(output, target):\n",
    "    err = torch.sqrt(metrics.mean_squared_error(target, output))\n",
    "    return err"
   ]
  },
  {
   "cell_type": "markdown",
   "metadata": {
    "id": "BRKOES_du3Fm"
   },
   "source": [
    "## Predict function"
   ]
  },
  {
   "cell_type": "code",
   "execution_count": 22,
   "metadata": {
    "execution": {
     "iopub.execute_input": "2021-06-20T05:50:26.291287Z",
     "iopub.status.busy": "2021-06-20T05:50:26.290809Z",
     "iopub.status.idle": "2021-06-20T05:50:26.299288Z",
     "shell.execute_reply": "2021-06-20T05:50:26.298439Z",
     "shell.execute_reply.started": "2021-06-20T05:50:26.291251Z"
    },
    "id": "ODG1bFcUu3Fm"
   },
   "outputs": [],
   "source": [
    "def predict(model, dataloader, device):\n",
    "    predicted_label = []\n",
    "    actual_label = []\n",
    "    with torch.no_grad():\n",
    "        for input_ids, attention_mask, target in (dataloader):\n",
    "            \n",
    "            input_ids, attention_mask, target = input_ids.to(device), attention_mask.to(device), target.to(device)\n",
    "            output = model(input_ids, attention_mask)\n",
    "                        \n",
    "            predicted_label += output\n",
    "            actual_label += target\n",
    "            \n",
    "    return predicted_label"
   ]
  },
  {
   "cell_type": "markdown",
   "metadata": {
    "id": "z4KwPSUXu3Fn"
   },
   "source": [
    "## Config"
   ]
  },
  {
   "cell_type": "code",
   "execution_count": 23,
   "metadata": {
    "colab": {
     "base_uri": "https://localhost:8080/"
    },
    "execution": {
     "iopub.execute_input": "2021-06-20T05:50:26.301068Z",
     "iopub.status.busy": "2021-06-20T05:50:26.300647Z",
     "iopub.status.idle": "2021-06-20T05:50:57.607245Z",
     "shell.execute_reply": "2021-06-20T05:50:57.606341Z",
     "shell.execute_reply.started": "2021-06-20T05:50:26.301031Z"
    },
    "id": "Q8w5hNMWu3Fn",
    "outputId": "884b9897-9800-42ba-a065-b819e02d642f"
   },
   "outputs": [
    {
     "name": "stderr",
     "output_type": "stream",
     "text": [
      "Some weights of the model checkpoint at dbmdz/bert-base-german-cased were not used when initializing BertRegresser: ['cls.predictions.transform.dense.bias', 'cls.predictions.transform.LayerNorm.weight', 'cls.predictions.transform.dense.weight', 'cls.predictions.bias', 'cls.predictions.transform.LayerNorm.bias', 'cls.predictions.decoder.weight']\n",
      "- This IS expected if you are initializing BertRegresser from the checkpoint of a model trained on another task or with another architecture (e.g. initializing a BertForSequenceClassification model from a BertForPreTraining model).\n",
      "- This IS NOT expected if you are initializing BertRegresser from the checkpoint of a model that you expect to be exactly identical (initializing a BertForSequenceClassification model from a BertForSequenceClassification model).\n",
      "Some weights of BertRegresser were not initialized from the model checkpoint at dbmdz/bert-base-german-cased and are newly initialized: ['ff2.weight', 'cls_layer1.bias', 'ff1.bias', 'ff2.bias', 'cls_layer1.weight', 'ff1.weight']\n",
      "You should probably TRAIN this model on a down-stream task to be able to use it for predictions and inference.\n"
     ]
    }
   ],
   "source": [
    "\n",
    "import torch\n",
    "from transformers import BertModel, BertTokenizerFast\n",
    "\n",
    "## Configuration loaded from AutoConfig \n",
    "config = AutoConfig.from_pretrained(MODEL_NAME)\n",
    "## Tokenizer loaded from AutoTokenizer\n",
    "tokenizer = AutoTokenizer.from_pretrained(MODEL_NAME)\n",
    "# Creating the model from the desired transformer model\n",
    "model = BertRegresser.from_pretrained(MODEL_NAME, config=config)\n",
    "## GPU or CPU\n",
    "device = torch.device(\"cuda:0\" if torch.cuda.is_available() else \"cpu\")\n",
    "## Putting model to device\n",
    "model = model.to(device)\n",
    "## Takes as the input the logits of the positive class and computes the binary cross-entropy \n",
    "# criterion = nn.BCEWithLogitsLoss()\n",
    "criterion = nn.MSELoss()\n",
    "## Optimizer\n",
    "optimizer = optim.Adam(params=model.parameters(), lr=LR)"
   ]
  },
  {
   "cell_type": "markdown",
   "metadata": {
    "id": "A9QQOunQu3Fn"
   },
   "source": [
    "## Prep data"
   ]
  },
  {
   "cell_type": "code",
   "execution_count": 24,
   "metadata": {
    "colab": {
     "base_uri": "https://localhost:8080/",
     "height": 205
    },
    "id": "nZxpLSZgIblZ",
    "outputId": "3ba236dc-130d-4143-81e7-b3ef44e1ea0d"
   },
   "outputs": [
    {
     "data": {
      "text/html": [
       "<div>\n",
       "<style scoped>\n",
       "    .dataframe tbody tr th:only-of-type {\n",
       "        vertical-align: middle;\n",
       "    }\n",
       "\n",
       "    .dataframe tbody tr th {\n",
       "        vertical-align: top;\n",
       "    }\n",
       "\n",
       "    .dataframe thead th {\n",
       "        text-align: right;\n",
       "    }\n",
       "</style>\n",
       "<table border=\"1\" class=\"dataframe\">\n",
       "  <thead>\n",
       "    <tr style=\"text-align: right;\">\n",
       "      <th></th>\n",
       "      <th>id</th>\n",
       "      <th>target</th>\n",
       "      <th>excerpt</th>\n",
       "    </tr>\n",
       "  </thead>\n",
       "  <tbody>\n",
       "    <tr>\n",
       "      <th>0</th>\n",
       "      <td>142544</td>\n",
       "      <td>5.095238</td>\n",
       "      <td>das objekt ist ein hochwertig saniertes und de...</td>\n",
       "    </tr>\n",
       "    <tr>\n",
       "      <th>1</th>\n",
       "      <td>228946</td>\n",
       "      <td>5.601956</td>\n",
       "      <td>diese sanierte wohnung mit loggia liegt in grü...</td>\n",
       "    </tr>\n",
       "    <tr>\n",
       "      <th>2</th>\n",
       "      <td>221806</td>\n",
       "      <td>7.065217</td>\n",
       "      <td>bei dem objekt handelt es sich um eine helle  ...</td>\n",
       "    </tr>\n",
       "    <tr>\n",
       "      <th>3</th>\n",
       "      <td>128932</td>\n",
       "      <td>5.494505</td>\n",
       "      <td>- gepflegte anlage\\n- zweigeschossige bauweise...</td>\n",
       "    </tr>\n",
       "    <tr>\n",
       "      <th>4</th>\n",
       "      <td>251769</td>\n",
       "      <td>5.010195</td>\n",
       "      <td>nonenone</td>\n",
       "    </tr>\n",
       "  </tbody>\n",
       "</table>\n",
       "</div>"
      ],
      "text/plain": [
       "       id    target                                            excerpt\n",
       "0  142544  5.095238  das objekt ist ein hochwertig saniertes und de...\n",
       "1  228946  5.601956  diese sanierte wohnung mit loggia liegt in grü...\n",
       "2  221806  7.065217  bei dem objekt handelt es sich um eine helle  ...\n",
       "3  128932  5.494505  - gepflegte anlage\\n- zweigeschossige bauweise...\n",
       "4  251769  5.010195                                           nonenone"
      ]
     },
     "execution_count": 24,
     "metadata": {},
     "output_type": "execute_result"
    }
   ],
   "source": [
    "dftest.head()"
   ]
  },
  {
   "cell_type": "code",
   "execution_count": 25,
   "metadata": {
    "execution": {
     "iopub.execute_input": "2021-06-20T05:50:57.608933Z",
     "iopub.status.busy": "2021-06-20T05:50:57.608561Z",
     "iopub.status.idle": "2021-06-20T05:50:57.619832Z",
     "shell.execute_reply": "2021-06-20T05:50:57.618958Z",
     "shell.execute_reply.started": "2021-06-20T05:50:57.608899Z"
    },
    "id": "YG11tEsmu3Fn"
   },
   "outputs": [],
   "source": [
    "## Training Dataset\n",
    "train_set = Excerpt_Dataset(data=train_data, maxlen=MAX_LEN_TRAIN, tokenizer=tokenizer)\n",
    "valid_set = Excerpt_Dataset(data=validation, maxlen=MAX_LEN_VALID, tokenizer=tokenizer)\n",
    "test_set = Excerpt_Dataset(data=dftest, maxlen=MAX_LEN_TEST, tokenizer=tokenizer)\n",
    "\n",
    "\n",
    "## Data Loaders\n",
    "train_loader = DataLoader(dataset=train_set, batch_size=BATCH_SIZE, num_workers=NUM_THREADS)\n",
    "valid_loader = DataLoader(dataset=valid_set, batch_size=BATCH_SIZE, num_workers=NUM_THREADS)\n",
    "test_loader = DataLoader(dataset=test_set, batch_size=BATCH_SIZE, num_workers=NUM_THREADS)\n",
    "\n",
    "# print(len(train_loader))"
   ]
  },
  {
   "cell_type": "markdown",
   "metadata": {
    "id": "gsZSfp8nu3Fn"
   },
   "source": [
    "## Train"
   ]
  },
  {
   "cell_type": "code",
   "execution_count": 26,
   "metadata": {
    "colab": {
     "base_uri": "https://localhost:8080/"
    },
    "execution": {
     "iopub.execute_input": "2021-06-20T05:50:57.621502Z",
     "iopub.status.busy": "2021-06-20T05:50:57.621119Z",
     "iopub.status.idle": "2021-06-20T05:58:24.833152Z",
     "shell.execute_reply": "2021-06-20T05:58:24.830294Z",
     "shell.execute_reply.started": "2021-06-20T05:50:57.621451Z"
    },
    "id": "TO9ppk8Tu3Fo",
    "outputId": "81ee4873-7228-482b-bab1-77e3ff5d6db2"
   },
   "outputs": [
    {
     "name": "stderr",
     "output_type": "stream",
     "text": [
      "Epoch:   0%|                                             | 0/10 [00:00<?, ?it/s]/home/user/anaconda3/envs/docker_guillermo/lib/python3.8/site-packages/torch/nn/modules/loss.py:520: UserWarning: Using a target size (torch.Size([21])) that is different to the input size (torch.Size([21, 1])). This will likely lead to incorrect results due to broadcasting. Please ensure they have the same size.\n",
      "  return F.mse_loss(input, target, reduction=self.reduction)\n",
      "Epoch:   0%|                                             | 0/10 [00:08<?, ?it/s]\n"
     ]
    },
    {
     "ename": "KeyboardInterrupt",
     "evalue": "",
     "output_type": "error",
     "traceback": [
      "\u001b[0;31m---------------------------------------------------------------------------\u001b[0m",
      "\u001b[0;31mKeyboardInterrupt\u001b[0m                         Traceback (most recent call last)",
      "Input \u001b[0;32mIn [26]\u001b[0m, in \u001b[0;36m<module>\u001b[0;34m\u001b[0m\n\u001b[0;32m----> 1\u001b[0m \u001b[43mtrain\u001b[49m\u001b[43m(\u001b[49m\u001b[43mmodel\u001b[49m\u001b[38;5;241;43m=\u001b[39;49m\u001b[43mmodel\u001b[49m\u001b[43m,\u001b[49m\u001b[43m \u001b[49m\n\u001b[1;32m      2\u001b[0m \u001b[43m      \u001b[49m\u001b[43mcriterion\u001b[49m\u001b[38;5;241;43m=\u001b[39;49m\u001b[43mcriterion\u001b[49m\u001b[43m,\u001b[49m\n\u001b[1;32m      3\u001b[0m \u001b[43m      \u001b[49m\u001b[43moptimizer\u001b[49m\u001b[38;5;241;43m=\u001b[39;49m\u001b[43moptimizer\u001b[49m\u001b[43m,\u001b[49m\u001b[43m \u001b[49m\n\u001b[1;32m      4\u001b[0m \u001b[43m      \u001b[49m\u001b[43mtrain_loader\u001b[49m\u001b[38;5;241;43m=\u001b[39;49m\u001b[43mtrain_loader\u001b[49m\u001b[43m,\u001b[49m\n\u001b[1;32m      5\u001b[0m \u001b[43m      \u001b[49m\u001b[43mval_loader\u001b[49m\u001b[38;5;241;43m=\u001b[39;49m\u001b[43mvalid_loader\u001b[49m\u001b[43m,\u001b[49m\n\u001b[1;32m      6\u001b[0m \u001b[43m      \u001b[49m\u001b[43mepochs\u001b[49m\u001b[43m \u001b[49m\u001b[38;5;241;43m=\u001b[39;49m\u001b[43m \u001b[49m\u001b[38;5;241;43m10\u001b[39;49m\u001b[43m,\u001b[49m\n\u001b[1;32m      7\u001b[0m \u001b[43m     \u001b[49m\u001b[43mdevice\u001b[49m\u001b[43m \u001b[49m\u001b[38;5;241;43m=\u001b[39;49m\u001b[43m \u001b[49m\u001b[43mdevice\u001b[49m\u001b[43m)\u001b[49m\n",
      "Input \u001b[0;32mIn [19]\u001b[0m, in \u001b[0;36mtrain\u001b[0;34m(model, criterion, optimizer, train_loader, val_loader, epochs, device)\u001b[0m\n\u001b[1;32m     11\u001b[0m output \u001b[38;5;241m=\u001b[39m model(input_ids\u001b[38;5;241m=\u001b[39minput_ids, attention_mask\u001b[38;5;241m=\u001b[39mattention_mask)\n\u001b[1;32m     13\u001b[0m loss \u001b[38;5;241m=\u001b[39m criterion(output, target\u001b[38;5;241m.\u001b[39mtype_as(output))\n\u001b[0;32m---> 14\u001b[0m \u001b[43mloss\u001b[49m\u001b[38;5;241;43m.\u001b[39;49m\u001b[43mbackward\u001b[49m\u001b[43m(\u001b[49m\u001b[43m)\u001b[49m\n\u001b[1;32m     15\u001b[0m optimizer\u001b[38;5;241m.\u001b[39mstep()\n\u001b[1;32m     17\u001b[0m train_loss \u001b[38;5;241m+\u001b[39m\u001b[38;5;241m=\u001b[39m loss\u001b[38;5;241m.\u001b[39mitem()\n",
      "File \u001b[0;32m~/anaconda3/envs/docker_guillermo/lib/python3.8/site-packages/torch/_tensor.py:307\u001b[0m, in \u001b[0;36mTensor.backward\u001b[0;34m(self, gradient, retain_graph, create_graph, inputs)\u001b[0m\n\u001b[1;32m    298\u001b[0m \u001b[38;5;28;01mif\u001b[39;00m has_torch_function_unary(\u001b[38;5;28mself\u001b[39m):\n\u001b[1;32m    299\u001b[0m     \u001b[38;5;28;01mreturn\u001b[39;00m handle_torch_function(\n\u001b[1;32m    300\u001b[0m         Tensor\u001b[38;5;241m.\u001b[39mbackward,\n\u001b[1;32m    301\u001b[0m         (\u001b[38;5;28mself\u001b[39m,),\n\u001b[0;32m   (...)\u001b[0m\n\u001b[1;32m    305\u001b[0m         create_graph\u001b[38;5;241m=\u001b[39mcreate_graph,\n\u001b[1;32m    306\u001b[0m         inputs\u001b[38;5;241m=\u001b[39minputs)\n\u001b[0;32m--> 307\u001b[0m \u001b[43mtorch\u001b[49m\u001b[38;5;241;43m.\u001b[39;49m\u001b[43mautograd\u001b[49m\u001b[38;5;241;43m.\u001b[39;49m\u001b[43mbackward\u001b[49m\u001b[43m(\u001b[49m\u001b[38;5;28;43mself\u001b[39;49m\u001b[43m,\u001b[49m\u001b[43m \u001b[49m\u001b[43mgradient\u001b[49m\u001b[43m,\u001b[49m\u001b[43m \u001b[49m\u001b[43mretain_graph\u001b[49m\u001b[43m,\u001b[49m\u001b[43m \u001b[49m\u001b[43mcreate_graph\u001b[49m\u001b[43m,\u001b[49m\u001b[43m \u001b[49m\u001b[43minputs\u001b[49m\u001b[38;5;241;43m=\u001b[39;49m\u001b[43minputs\u001b[49m\u001b[43m)\u001b[49m\n",
      "File \u001b[0;32m~/anaconda3/envs/docker_guillermo/lib/python3.8/site-packages/torch/autograd/__init__.py:154\u001b[0m, in \u001b[0;36mbackward\u001b[0;34m(tensors, grad_tensors, retain_graph, create_graph, grad_variables, inputs)\u001b[0m\n\u001b[1;32m    151\u001b[0m \u001b[38;5;28;01mif\u001b[39;00m retain_graph \u001b[38;5;129;01mis\u001b[39;00m \u001b[38;5;28;01mNone\u001b[39;00m:\n\u001b[1;32m    152\u001b[0m     retain_graph \u001b[38;5;241m=\u001b[39m create_graph\n\u001b[0;32m--> 154\u001b[0m \u001b[43mVariable\u001b[49m\u001b[38;5;241;43m.\u001b[39;49m\u001b[43m_execution_engine\u001b[49m\u001b[38;5;241;43m.\u001b[39;49m\u001b[43mrun_backward\u001b[49m\u001b[43m(\u001b[49m\n\u001b[1;32m    155\u001b[0m \u001b[43m    \u001b[49m\u001b[43mtensors\u001b[49m\u001b[43m,\u001b[49m\u001b[43m \u001b[49m\u001b[43mgrad_tensors_\u001b[49m\u001b[43m,\u001b[49m\u001b[43m \u001b[49m\u001b[43mretain_graph\u001b[49m\u001b[43m,\u001b[49m\u001b[43m \u001b[49m\u001b[43mcreate_graph\u001b[49m\u001b[43m,\u001b[49m\u001b[43m \u001b[49m\u001b[43minputs\u001b[49m\u001b[43m,\u001b[49m\n\u001b[1;32m    156\u001b[0m \u001b[43m    \u001b[49m\u001b[43mallow_unreachable\u001b[49m\u001b[38;5;241;43m=\u001b[39;49m\u001b[38;5;28;43;01mTrue\u001b[39;49;00m\u001b[43m,\u001b[49m\u001b[43m \u001b[49m\u001b[43maccumulate_grad\u001b[49m\u001b[38;5;241;43m=\u001b[39;49m\u001b[38;5;28;43;01mTrue\u001b[39;49;00m\u001b[43m)\u001b[49m\n",
      "\u001b[0;31mKeyboardInterrupt\u001b[0m: "
     ]
    }
   ],
   "source": [
    "train(model=model, \n",
    "      criterion=criterion,\n",
    "      optimizer=optimizer, \n",
    "      train_loader=train_loader,\n",
    "      val_loader=valid_loader,\n",
    "      epochs = 10,\n",
    "     device = device)"
   ]
  },
  {
   "cell_type": "markdown",
   "metadata": {
    "id": "cJxczkD6u3Fo"
   },
   "source": [
    "## Prediction"
   ]
  },
  {
   "cell_type": "code",
   "execution_count": null,
   "metadata": {
    "execution": {
     "iopub.execute_input": "2021-06-20T05:58:24.835369Z",
     "iopub.status.busy": "2021-06-20T05:58:24.834996Z",
     "iopub.status.idle": "2021-06-20T05:58:24.927749Z",
     "shell.execute_reply": "2021-06-20T05:58:24.926709Z",
     "shell.execute_reply.started": "2021-06-20T05:58:24.835328Z"
    },
    "id": "ed_ijW1Mu3Fo"
   },
   "outputs": [],
   "source": [
    "output = predict(model, test_loader, device)"
   ]
  },
  {
   "cell_type": "code",
   "execution_count": null,
   "metadata": {
    "colab": {
     "base_uri": "https://localhost:8080/"
    },
    "execution": {
     "iopub.execute_input": "2021-06-20T05:58:24.931268Z",
     "iopub.status.busy": "2021-06-20T05:58:24.931000Z",
     "iopub.status.idle": "2021-06-20T05:58:24.939686Z",
     "shell.execute_reply": "2021-06-20T05:58:24.938745Z",
     "shell.execute_reply.started": "2021-06-20T05:58:24.931240Z"
    },
    "id": "BqJe6fsgu3Fo",
    "outputId": "982a88b9-42a4-470e-a9a0-cc9ca3633336"
   },
   "outputs": [],
   "source": [
    "output[0].shape"
   ]
  },
  {
   "cell_type": "code",
   "execution_count": null,
   "metadata": {
    "colab": {
     "base_uri": "https://localhost:8080/"
    },
    "execution": {
     "iopub.execute_input": "2021-06-20T05:58:24.941313Z",
     "iopub.status.busy": "2021-06-20T05:58:24.940934Z",
     "iopub.status.idle": "2021-06-20T05:58:24.976125Z",
     "shell.execute_reply": "2021-06-20T05:58:24.975353Z",
     "shell.execute_reply.started": "2021-06-20T05:58:24.941276Z"
    },
    "id": "6L7_9HDau3Fo",
    "outputId": "2f49bc65-161c-4c0b-8f6b-cd011de81c01"
   },
   "outputs": [],
   "source": [
    "output[0]"
   ]
  },
  {
   "cell_type": "code",
   "execution_count": null,
   "metadata": {
    "execution": {
     "iopub.execute_input": "2021-06-20T05:58:24.977729Z",
     "iopub.status.busy": "2021-06-20T05:58:24.977249Z",
     "iopub.status.idle": "2021-06-20T05:58:24.982152Z",
     "shell.execute_reply": "2021-06-20T05:58:24.981216Z",
     "shell.execute_reply.started": "2021-06-20T05:58:24.977692Z"
    },
    "id": "XscJwxBxu3Fp"
   },
   "outputs": [],
   "source": [
    "out2 = []"
   ]
  },
  {
   "cell_type": "code",
   "execution_count": null,
   "metadata": {
    "execution": {
     "iopub.execute_input": "2021-06-20T05:58:24.984281Z",
     "iopub.status.busy": "2021-06-20T05:58:24.983856Z",
     "iopub.status.idle": "2021-06-20T05:58:24.993368Z",
     "shell.execute_reply": "2021-06-20T05:58:24.992491Z",
     "shell.execute_reply.started": "2021-06-20T05:58:24.984189Z"
    },
    "id": "4laNDi6uu3Fp"
   },
   "outputs": [],
   "source": [
    "for out in output:\n",
    "    out2.append(out.cpu().detach().numpy())"
   ]
  },
  {
   "cell_type": "code",
   "execution_count": null,
   "metadata": {
    "execution": {
     "iopub.execute_input": "2021-06-20T05:58:24.995131Z",
     "iopub.status.busy": "2021-06-20T05:58:24.994885Z",
     "iopub.status.idle": "2021-06-20T05:58:25.003726Z",
     "shell.execute_reply": "2021-06-20T05:58:25.002984Z",
     "shell.execute_reply.started": "2021-06-20T05:58:24.995107Z"
    },
    "id": "HTaza4xSu3Fp"
   },
   "outputs": [],
   "source": [
    "out = np.array(out2).reshape(len(out2))"
   ]
  },
  {
   "cell_type": "code",
   "execution_count": null,
   "metadata": {
    "execution": {
     "iopub.execute_input": "2021-06-20T05:58:25.005470Z",
     "iopub.status.busy": "2021-06-20T05:58:25.005110Z",
     "iopub.status.idle": "2021-06-20T05:58:25.015259Z",
     "shell.execute_reply": "2021-06-20T05:58:25.014492Z",
     "shell.execute_reply.started": "2021-06-20T05:58:25.005428Z"
    },
    "id": "YSlonbz0u3Fp"
   },
   "outputs": [],
   "source": [
    "submission = pd.DataFrame({'id': dftest['id'], 'target':out})"
   ]
  },
  {
   "cell_type": "code",
   "execution_count": null,
   "metadata": {
    "execution": {
     "iopub.execute_input": "2021-06-20T05:58:25.016965Z",
     "iopub.status.busy": "2021-06-20T05:58:25.016542Z",
     "iopub.status.idle": "2021-06-20T05:58:25.271151Z",
     "shell.execute_reply": "2021-06-20T05:58:25.270327Z",
     "shell.execute_reply.started": "2021-06-20T05:58:25.016931Z"
    },
    "id": "rbAEQf9cu3Fp"
   },
   "outputs": [],
   "source": [
    "submission.to_csv('predictions_only_text_100000.csv', index=False)"
   ]
  }
 ],
 "metadata": {
  "accelerator": "GPU",
  "colab": {
   "collapsed_sections": [],
   "machine_shape": "hm",
   "name": "Nomoko_nlp.ipynb",
   "provenance": []
  },
  "kernelspec": {
   "display_name": "Python 3 (ipykernel)",
   "language": "python",
   "name": "python3"
  },
  "language_info": {
   "codemirror_mode": {
    "name": "ipython",
    "version": 3
   },
   "file_extension": ".py",
   "mimetype": "text/x-python",
   "name": "python",
   "nbconvert_exporter": "python",
   "pygments_lexer": "ipython3",
   "version": "3.8.12"
  }
 },
 "nbformat": 4,
 "nbformat_minor": 1
}
